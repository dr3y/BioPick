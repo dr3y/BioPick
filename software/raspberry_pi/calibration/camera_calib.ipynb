{
 "cells": [
  {
   "cell_type": "code",
   "execution_count": 19,
   "metadata": {},
   "outputs": [],
   "source": [
    "import numpy as np\n",
    "import cv2 as cv\n",
    "import glob\n",
    "import os"
   ]
  },
  {
   "cell_type": "code",
   "execution_count": 20,
   "metadata": {
    "tags": []
   },
   "outputs": [
    {
     "output_type": "stream",
     "name": "stdout",
     "text": "['.\\\\calibration\\\\calib1.png', '.\\\\calibration\\\\calib2.png', '.\\\\calibration\\\\calib3.png', '.\\\\calibration\\\\calib4.png', '.\\\\calibration\\\\calib5.png', '.\\\\calibration\\\\calib6.png', '.\\\\calibration\\\\calib7.png']\n"
    }
   ],
   "source": [
    "# termination criteria\n",
    "criteria = (cv.TERM_CRITERIA_EPS + cv.TERM_CRITERIA_MAX_ITER, 30, 0.001)\n",
    "# prepare object points, like (0,0,0), (1,0,0), (2,0,0) ....,(6,5,0)\n",
    "\n",
    "xdim=5\n",
    "ydim = 4\n",
    "objp = np.zeros((xdim*ydim,3), np.float32)\n",
    "objp[:,:2] = np.mgrid[0:xdim,0:ydim].T.reshape(-1,2)\n",
    "# Arrays to store object points and image points from all the images.\n",
    "objpoints = [] # 3d point in real world space\n",
    "imgpoints = [] # 2d points in image plane.\n",
    "images = []\n",
    "images = [os.path.join(\".\",a+\".png\") for a in [\"calib3\",\"calib4\",\"calib6\"]]\n",
    "print(images)"
   ]
  },
  {
   "cell_type": "code",
   "execution_count": 21,
   "metadata": {
    "tags": []
   },
   "outputs": [
    {
     "output_type": "stream",
     "name": "stdout",
     "text": "reading .\\calibration\\calib1.png\nwe got False None\nreading .\\calibration\\calib2.png\nwe got False None\nreading .\\calibration\\calib3.png\nwe got True [[[ 409.16833  769.2327 ]]\n\n [[ 467.38077  577.99634]]\n\n [[ 514.3766   420.72256]]\n\n [[ 553.3396   288.76617]]\n\n [[ 585.88275  175.54607]]\n\n [[ 660.47504  769.1612 ]]\n\n [[ 693.8731   579.1462 ]]\n\n [[ 720.9976   423.372  ]]\n\n [[ 743.03613  291.3232 ]]\n\n [[ 761.75745  177.56097]]\n\n [[ 906.7988   769.75336]]\n\n [[ 916.4699   580.2616 ]]\n\n [[ 923.5824   424.45386]]\n\n [[ 929.98706  292.9664 ]]\n\n [[ 936.64703  179.22238]]\n\n [[1154.5377   771.9184 ]]\n\n [[1139.1713   581.418  ]]\n\n [[1127.7035   425.17636]]\n\n [[1118.2294   292.62527]]\n\n [[1111.8695   178.60521]]]\nreading .\\calibration\\calib4.png\nwe got True [[[1097.3898    613.0651  ]]\n\n [[ 871.3932    592.7049  ]]\n\n [[ 638.2186    574.1437  ]]\n\n [[ 393.91605   553.048   ]]\n\n [[ 142.07297   531.7721  ]]\n\n [[1094.9742    431.02078 ]]\n\n [[ 886.2447    410.12195 ]]\n\n [[ 670.7023    388.06015 ]]\n\n [[ 446.0214    366.40366 ]]\n\n [[ 214.4997    343.01987 ]]\n\n [[1093.0092    271.4608  ]]\n\n [[ 898.41095   251.0378  ]]\n\n [[ 697.43524   228.69408 ]]\n\n [[ 488.44275   204.14922 ]]\n\n [[ 275.02036   180.01512 ]]\n\n [[1092.5706    132.05246 ]]\n\n [[ 909.3827    110.79719 ]]\n\n [[ 720.0237     87.45052 ]]\n\n [[ 525.6339     63.187996]]\n\n [[ 326.52036    39.665115]]]\nreading .\\calibration\\calib5.png\nwe got False None\nreading .\\calibration\\calib6.png\nwe got True [[[ 572.       116.     ]]\n\n [[ 709.3266   163.69254]]\n\n [[ 860.       215.     ]]\n\n [[1018.       270.     ]]\n\n [[1186.5      330.     ]]\n\n [[ 457.5      200.5    ]]\n\n [[ 604.6735   257.5498 ]]\n\n [[ 759.3504   316.34042]]\n\n [[ 926.       381.5    ]]\n\n [[1103.6298   450.23203]]\n\n [[ 325.2854   303.60532]]\n\n [[ 481.0394   366.25256]]\n\n [[ 646.73126  433.37387]]\n\n [[ 821.       508.5    ]]\n\n [[1007.95825  588.45715]]\n\n [[ 179.43248  420.73267]]\n\n [[ 333.60382  494.84067]]\n\n [[ 509.9244   573.584  ]]\n\n [[ 695.5      659.5    ]]\n\n [[ 896.21985  753.10754]]]\nreading .\\calibration\\calib7.png\nwe got False None\n"
    }
   ],
   "source": [
    "for fname in images:\n",
    "    print(\"reading \"+fname)\n",
    "    img = cv.imread(fname)\n",
    "    gray = cv.cvtColor(img, cv.COLOR_BGR2GRAY)\n",
    "    # Find the chess board corners\n",
    "    ret, corners = cv.findChessboardCorners(gray, (xdim,ydim), None)\n",
    "    # If found, add object points, image points (after refining them)\n",
    "    print(\"we got \"+str(ret)+\" \"+str(corners))\n",
    "    if ret == True:\n",
    "        objpoints.append(objp)\n",
    "        corners2 = cv.cornerSubPix(gray,corners, (11,11), (-1,-1), criteria)\n",
    "        imgpoints.append(corners)\n",
    "        # Draw and display the corners\n",
    "        cv.drawChessboardCorners(img, (xdim,ydim), corners2, ret)\n",
    "        cv.imshow('img', img)\n",
    "        cv.waitKey(0)\n",
    "cv.destroyAllWindows()"
   ]
  },
  {
   "cell_type": "code",
   "execution_count": 23,
   "metadata": {},
   "outputs": [],
   "source": [
    "ret, mtx, dist, rvecs, tvecs = cv.calibrateCamera(objpoints, imgpoints, gray.shape[::-1],None,None)"
   ]
  },
  {
   "cell_type": "code",
   "execution_count": 1,
   "metadata": {},
   "outputs": [],
   "source": [
    "import pickle\n",
    "pickfle = open(\"camera_matrix.pckl\",\"rb\")\n",
    "mtx,dist = pickle.load(pickfle)"
   ]
  },
  {
   "cell_type": "code",
   "execution_count": 29,
   "metadata": {},
   "outputs": [],
   "source": [
    "import pickle\n",
    "x = open(\"camera_matrix.pckl\",\"wb\")\n",
    "pickle.dump([mtx,dist],x)\n",
    "x.close()"
   ]
  }
 ],
 "metadata": {
  "kernelspec": {
   "display_name": "Python 3.7.4 64-bit ('base': conda)",
   "language": "python",
   "name": "python37464bitbaseconda4bf18afa65be4bc0b1df4a316a30f53b"
  }
 },
 "nbformat": 4,
 "nbformat_minor": 4
}